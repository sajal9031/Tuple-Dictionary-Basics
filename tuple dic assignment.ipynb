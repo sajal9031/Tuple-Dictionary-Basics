{
 "cells": [
  {
   "cell_type": "markdown",
   "id": "b48724d7-6a9b-450b-a657-46c4692d7afb",
   "metadata": {},
   "source": [
    "\n",
    "1. What are the characteristics of the tuples? Is tuple immutable\n",
    "\n"
   ]
  },
  {
   "cell_type": "markdown",
   "id": "45c3ec8a-f2c2-40cc-803b-2060eeed1695",
   "metadata": {},
   "source": [
    "Tuples are one of the built-in data structures in Python and have the following characteristics:\n",
    "\n",
    "Ordered: Tuples maintain the order of elements in which they were created.\n",
    "\n",
    "Immutable: Once a tuple is created, the elements within it cannot be changed, modified, or removed. This makes tuples an effective way to represent data that should not change throughout the lifetime of a program.\n",
    "\n",
    "Heterogeneous: Tuples can contain elements of different data types, such as integers, strings, and other objects.\n",
    "\n",
    "Indexed: Elements within a tuple can be accessed using an index, just like with lists.\n",
    "\n",
    "Lightweight: Tuples use less memory compared to lists and other data structures, making them an efficient choice for large datasets."
   ]
  },
  {
   "cell_type": "markdown",
   "id": "38df0cdc-83eb-425e-a0ff-4ad27b37d3fd",
   "metadata": {},
   "source": [
    "2. What are the two tuple methods in python? Give an example of each metho.  Give a reason why  tuples have only two in-built methods as compared to Lists.\n"
   ]
  },
  {
   "cell_type": "markdown",
   "id": "44ea5323-7cde-40f8-9f8e-11f444041842",
   "metadata": {},
   "source": [
    " \n",
    "---- In Python, tuples have two built-in methods:\n",
    "\n",
    "a) count(): This method returns the number of times a specific element appears in the tuple.\n",
    "b) index(): This method returns the index of the first occurrence of a specific element in the tuple."
   ]
  },
  {
   "cell_type": "code",
   "execution_count": 10,
   "id": "d42f7a68-3b4c-4f86-a763-9ce8ab45ebe0",
   "metadata": {},
   "outputs": [
    {
     "name": "stdout",
     "output_type": "stream",
     "text": [
      "3\n"
     ]
    }
   ],
   "source": [
    "numbers = (1, 2, 3, 1, 2, 3,1)\n",
    "count = numbers.count(1)\n",
    "print(count)"
   ]
  },
  {
   "cell_type": "code",
   "execution_count": 3,
   "id": "74a6456a-bd5b-4d85-804a-bda7ada8b161",
   "metadata": {},
   "outputs": [
    {
     "name": "stdout",
     "output_type": "stream",
     "text": [
      "1\n"
     ]
    }
   ],
   "source": [
    "numbers = (1, 2, 3, 1, 2, 3)\n",
    "index = numbers.index(2)\n",
    "print(index)"
   ]
  },
  {
   "cell_type": "markdown",
   "id": "4c3e28b9-d8d3-4463-8bf6-30c337e14bc1",
   "metadata": {},
   "source": [
    "Tuples have only two built-in methods because they are meant to be simple, lightweight data structures for representing values that should not be changed. By having only a few methods, tuples can be faster and use less memory than other data structures that have more complex functionality. The two methods provided, count and index, are sufficient for many common use cases for tuples, such as looking up elements in a collection or counting the number of occurrences of a specific value."
   ]
  },
  {
   "cell_type": "markdown",
   "id": "6b16b5c8-b263-43f9-b493-7f15f0b99bd4",
   "metadata": {},
   "source": [
    "\n",
    "    \n",
    "A set is an unordered collection of unique elements, and duplicates are automatically removed when elements are added to a set.\n"
   ]
  },
  {
   "cell_type": "code",
   "execution_count": null,
   "id": "99e117ca-ff51-4856-b450-c790f4d0dcaf",
   "metadata": {},
   "outputs": [],
   "source": []
  },
  {
   "cell_type": "markdown",
   "id": "2826ca36-34d4-4545-ada9-0ee29109c43d",
   "metadata": {},
   "source": [
    "Write a code using a set to remove duplicates from the given list.\n",
    "List = [1, 1, 1, 2, 1, 3, 1, 4, 2, 1, 2, 2, 2, 3, 2, 4, 3, 1, 3, 2, 3, 3, 3, 4, 4, 1, 4, 2, 4, 3, 4, 4]"
   ]
  },
  {
   "cell_type": "code",
   "execution_count": 4,
   "id": "60f4ca2c-9fe0-4951-a201-b64f36414c1c",
   "metadata": {},
   "outputs": [],
   "source": [
    "set={1, 1, 1, 2, 1, 3, 1, 4, 2, 1, 2, 2, 2, 3, 2, 4, 3, 1, 3, 2, 3, 3, 3, 4, 4, 1, 4, 2, 4, 3, 4, 4}"
   ]
  },
  {
   "cell_type": "code",
   "execution_count": 5,
   "id": "0595eaad-145c-49b9-82a4-6a1c6d7320de",
   "metadata": {},
   "outputs": [
    {
     "data": {
      "text/plain": [
       "{1, 2, 3, 4}"
      ]
     },
     "execution_count": 5,
     "metadata": {},
     "output_type": "execute_result"
    }
   ],
   "source": [
    "set"
   ]
  },
  {
   "cell_type": "markdown",
   "id": "c3b2c35e-72ea-440f-9b93-641e0f93e7b8",
   "metadata": {},
   "source": [
    "4. Explain the difference between the union() and update() methods for a set. Give an example of each method."
   ]
  },
  {
   "cell_type": "markdown",
   "id": "e7e2afef-4847-4da4-ad97-9893fe246d27",
   "metadata": {},
   "source": [
    "The union method returns a new set that is the result of combining the elements of the calling set with the elements of one or more other sets. The original sets are not modified. \n",
    "\n",
    "The update method modifies the calling set by adding the elements of one or more other sets to it.\n"
   ]
  },
  {
   "cell_type": "code",
   "execution_count": 6,
   "id": "c509e0b5-17b5-4ad4-b1a6-00be05af5de0",
   "metadata": {},
   "outputs": [
    {
     "name": "stdout",
     "output_type": "stream",
     "text": [
      "{1, 2, 3, 4, 5}\n"
     ]
    }
   ],
   "source": [
    "set1 = {1, 2, 3}\n",
    "set2 = {3, 4, 5}\n",
    "result = set1.union(set2)\n",
    "print(result)"
   ]
  },
  {
   "cell_type": "code",
   "execution_count": 7,
   "id": "2d2a19c3-6155-404c-adfb-7472f85c33f2",
   "metadata": {},
   "outputs": [
    {
     "name": "stdout",
     "output_type": "stream",
     "text": [
      "{1, 2, 3, 4, 5}\n"
     ]
    }
   ],
   "source": [
    "set1 = {1, 2, 3}\n",
    "set2 = {3, 4, 5}\n",
    "set1.update(set2)\n",
    "print(set1)"
   ]
  },
  {
   "cell_type": "markdown",
   "id": "e3ca1c10-5ff8-4a15-b5cc-028f0e29f00c",
   "metadata": {},
   "source": [
    "5. What is a dictionary? Give an example. Also, state whether a dictionary is ordered or unordered."
   ]
  },
  {
   "cell_type": "markdown",
   "id": "a88e82da-ee9a-4a2e-b0f9-05a4953d60bc",
   "metadata": {},
   "source": [
    "In Python, a dictionary is a collection of key-value pairs, where each key is unique and maps to a value. Dictionaries are also sometimes referred to as associative arrays, hash maps, or maps."
   ]
  },
  {
   "cell_type": "code",
   "execution_count": 8,
   "id": "b59a5227-0ab1-4a4e-b5b5-894d8ed4c9ad",
   "metadata": {},
   "outputs": [
    {
     "name": "stdout",
     "output_type": "stream",
     "text": [
      "{'name': 'sajal', 'age': 25, 'gender': 'male'}\n"
     ]
    }
   ],
   "source": [
    "person = {'name': 'sajal', 'age': 25, 'gender': 'male'}\n",
    "print(person)"
   ]
  },
  {
   "cell_type": "markdown",
   "id": "504025c1-055b-4e0b-a555-f9420d59e565",
   "metadata": {},
   "source": [
    "Dictionaries in Python are unordered, meaning that the elements are not stored in a specific order. The order of the elements in a dictionary can change as you add or remove elements from the dictionary"
   ]
  },
  {
   "cell_type": "markdown",
   "id": "3c48314c-c976-46a3-adf9-168dcddb211b",
   "metadata": {},
   "source": [
    "6. Can we create a nested dictionary? If so, please give an example by creating a simple one-level nested dictionary."
   ]
  },
  {
   "cell_type": "markdown",
   "id": "49d28825-7003-4592-bd36-b0cafe155463",
   "metadata": {},
   "source": [
    "Yes, you can create a nested dictionary in Python. A nested dictionary is simply a dictionary that contains one or more dictionaries as values.\n",
    "\n"
   ]
  },
  {
   "cell_type": "code",
   "execution_count": 11,
   "id": "286a2711-38de-447a-b75c-65f2f32c6c10",
   "metadata": {},
   "outputs": [
    {
     "name": "stdout",
     "output_type": "stream",
     "text": [
      "{'name': 'John Doe', 'age': 30, 'address': {'street': '123 Main St', 'city': 'Anytown', 'state': 'CA'}}\n"
     ]
    }
   ],
   "source": [
    "person = {\n",
    "    'name': 'John Doe',\n",
    "    'age': 30,\n",
    "    'address': {\n",
    "        'street': '123 Main St',\n",
    "        'city': 'Anytown',\n",
    "        'state': 'CA'\n",
    "    }\n",
    "}\n",
    "print(person)\n"
   ]
  },
  {
   "cell_type": "markdown",
   "id": "9208468c-54cf-4df0-95df-4aa70e2b1d21",
   "metadata": {},
   "source": [
    "7. Using setdefault() method, create key named topics in the given dictionary and also add the value of\n",
    "the key as this list ['Python', 'Machine Learning’, 'Deep Learning']\n",
    "\n",
    "dict1 = {'language' : 'Python', 'course': 'Data Science Masters'}"
   ]
  },
  {
   "cell_type": "markdown",
   "id": "118a7edb-7f00-4647-aa1d-f5977d2492df",
   "metadata": {},
   "source": [
    "setdefault() method to create a key named \"topics\" in the given dictionary and also add the value of the key as the list ['Python', 'Machine Learning', 'Deep Learning']:"
   ]
  },
  {
   "cell_type": "code",
   "execution_count": null,
   "id": "85cee08b-07fb-49d9-912d-d6e9d74cb05c",
   "metadata": {},
   "outputs": [],
   "source": []
  },
  {
   "cell_type": "markdown",
   "id": "d5ef8dbd-b320-48fb-8b8d-a86b6f490843",
   "metadata": {},
   "source": [
    "8. What are the three view objects in dictionaries? Use the three in-built methods in python to display\n",
    "   these three view objects for the given dictionary.\n",
    "   \n",
    "   dict1 = {'Sport': 'Cricket' , 'Teams': ['India', 'Australia', 'England', 'South Africa', 'Sri Lanka', 'New Zealand']}"
   ]
  },
  {
   "cell_type": "markdown",
   "id": "3f512bef-1935-4678-acec-e64cea0fa08d",
   "metadata": {},
   "source": [
    "In Python, dictionaries have three view objects:\n",
    "\n",
    "keys()\n",
    "values()\n",
    "items()\n",
    "These view objects provide a dynamic view on the dictionary's entries, which means that when the dictionary changes, the view reflects these changes."
   ]
  },
  {
   "cell_type": "code",
   "execution_count": 14,
   "id": "88a356ba-f1b1-4d7e-be70-0dffad161152",
   "metadata": {},
   "outputs": [
    {
     "name": "stdout",
     "output_type": "stream",
     "text": [
      "Keys View: dict_keys(['Sport', 'Teams'])\n",
      "Values View: dict_values(['Cricket', ['India', 'Australia', 'England', 'South Africa', 'Sri Lanka', 'New Zealand']])\n",
      "Items View: dict_items([('Sport', 'Cricket'), ('Teams', ['India', 'Australia', 'England', 'South Africa', 'Sri Lanka', 'New Zealand'])])\n"
     ]
    }
   ],
   "source": [
    "dict1 = {'Sport': 'Cricket' , 'Teams': ['India', 'Australia', 'England', 'South Africa', 'Sri Lanka', 'New Zealand']}\n",
    "\n",
    "keys_view = dict1.keys()\n",
    "values_view = dict1.values()\n",
    "items_view = dict1.items()\n",
    "\n",
    "print(\"Keys View:\", keys_view)\n",
    "print(\"Values View:\", values_view)\n",
    "print(\"Items View:\", items_view)"
   ]
  },
  {
   "cell_type": "code",
   "execution_count": null,
   "id": "7205e887-2523-4b64-8f58-9b0c91cd2cd7",
   "metadata": {},
   "outputs": [],
   "source": []
  }
 ],
 "metadata": {
  "kernelspec": {
   "display_name": "Python 3 (ipykernel)",
   "language": "python",
   "name": "python3"
  },
  "language_info": {
   "codemirror_mode": {
    "name": "ipython",
    "version": 3
   },
   "file_extension": ".py",
   "mimetype": "text/x-python",
   "name": "python",
   "nbconvert_exporter": "python",
   "pygments_lexer": "ipython3",
   "version": "3.10.8"
  }
 },
 "nbformat": 4,
 "nbformat_minor": 5
}
